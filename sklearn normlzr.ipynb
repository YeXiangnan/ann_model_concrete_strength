{
 "cells": [
  {
   "cell_type": "code",
   "execution_count": 2,
   "metadata": {},
   "outputs": [],
   "source": [
    "#Load required libraries\n",
    "import pandas as pd\n",
    "import numpy as np\n",
    "from keras.models import Sequential\n",
    "from keras.layers import Dense\n",
    "from keras.optimizers import RMSprop\n",
    "import matplotlib.pyplot as plt \n",
    "from sklearn.preprocessing import MinMaxScaler"
   ]
  },
  {
   "cell_type": "code",
   "execution_count": 3,
   "metadata": {},
   "outputs": [],
   "source": [
    "#Load data from csv files into program\n",
    "#Reference paper 'ANN Model for Predicting Compressive Strength of Alkali Activated Slag Concrete Cured at Environmental Temperature'\n",
    "#by Veeresh Karikatti et.al - doi: 10.14704/nq.2022.20.6.NQ22044\n",
    "df_train=pd.read_csv('concrete_prediction_train.csv')\n",
    "df_test=pd.read_csv('concrete_prediction_test.csv')"
   ]
  },
  {
   "cell_type": "code",
   "execution_count": 4,
   "metadata": {},
   "outputs": [
    {
     "data": {
      "text/plain": [
       "(77, 7)"
      ]
     },
     "execution_count": 4,
     "metadata": {},
     "output_type": "execute_result"
    }
   ],
   "source": [
    "#combine both training and test data for pre-processing\n",
    "df_total=pd.concat([df_train,df_test],ignore_index=True)\n",
    "df_total.shape"
   ]
  },
  {
   "cell_type": "code",
   "execution_count": 5,
   "metadata": {},
   "outputs": [
    {
     "data": {
      "text/html": [
       "<div>\n",
       "<style scoped>\n",
       "    .dataframe tbody tr th:only-of-type {\n",
       "        vertical-align: middle;\n",
       "    }\n",
       "\n",
       "    .dataframe tbody tr th {\n",
       "        vertical-align: top;\n",
       "    }\n",
       "\n",
       "    .dataframe thead th {\n",
       "        text-align: right;\n",
       "    }\n",
       "</style>\n",
       "<table border=\"1\" class=\"dataframe\">\n",
       "  <thead>\n",
       "    <tr style=\"text-align: right;\">\n",
       "      <th></th>\n",
       "      <th>GGBS (kg)</th>\n",
       "      <th>Alkaline Soln. (kg)</th>\n",
       "      <th>Superplasticizer (kg)</th>\n",
       "      <th>Extra water (Ltr. or 1 kg)</th>\n",
       "      <th>3d-CS (N/mm2)</th>\n",
       "      <th>7d-CS (N/mm2)</th>\n",
       "      <th>28d-CS (N/mm2)</th>\n",
       "    </tr>\n",
       "  </thead>\n",
       "  <tbody>\n",
       "    <tr>\n",
       "      <th>0</th>\n",
       "      <td>345.0</td>\n",
       "      <td>207.0</td>\n",
       "      <td>6.90</td>\n",
       "      <td>69.0</td>\n",
       "      <td>35.33</td>\n",
       "      <td>44.21</td>\n",
       "      <td>55.42</td>\n",
       "    </tr>\n",
       "    <tr>\n",
       "      <th>1</th>\n",
       "      <td>345.0</td>\n",
       "      <td>207.0</td>\n",
       "      <td>6.90</td>\n",
       "      <td>69.0</td>\n",
       "      <td>35.23</td>\n",
       "      <td>45.84</td>\n",
       "      <td>55.98</td>\n",
       "    </tr>\n",
       "    <tr>\n",
       "      <th>2</th>\n",
       "      <td>368.0</td>\n",
       "      <td>184.0</td>\n",
       "      <td>7.36</td>\n",
       "      <td>73.6</td>\n",
       "      <td>41.89</td>\n",
       "      <td>50.71</td>\n",
       "      <td>60.85</td>\n",
       "    </tr>\n",
       "    <tr>\n",
       "      <th>3</th>\n",
       "      <td>368.0</td>\n",
       "      <td>184.0</td>\n",
       "      <td>7.36</td>\n",
       "      <td>73.6</td>\n",
       "      <td>42.65</td>\n",
       "      <td>51.85</td>\n",
       "      <td>61.10</td>\n",
       "    </tr>\n",
       "    <tr>\n",
       "      <th>4</th>\n",
       "      <td>394.0</td>\n",
       "      <td>158.0</td>\n",
       "      <td>7.89</td>\n",
       "      <td>78.9</td>\n",
       "      <td>52.04</td>\n",
       "      <td>60.24</td>\n",
       "      <td>71.80</td>\n",
       "    </tr>\n",
       "  </tbody>\n",
       "</table>\n",
       "</div>"
      ],
      "text/plain": [
       "   GGBS (kg)  Alkaline Soln. (kg)  Superplasticizer (kg)  \\\n",
       "0      345.0                207.0                   6.90   \n",
       "1      345.0                207.0                   6.90   \n",
       "2      368.0                184.0                   7.36   \n",
       "3      368.0                184.0                   7.36   \n",
       "4      394.0                158.0                   7.89   \n",
       "\n",
       "   Extra water (Ltr. or 1 kg)  3d-CS (N/mm2)  7d-CS (N/mm2)  28d-CS (N/mm2)  \n",
       "0                        69.0          35.33          44.21           55.42  \n",
       "1                        69.0          35.23          45.84           55.98  \n",
       "2                        73.6          41.89          50.71           60.85  \n",
       "3                        73.6          42.65          51.85           61.10  \n",
       "4                        78.9          52.04          60.24           71.80  "
      ]
     },
     "execution_count": 5,
     "metadata": {},
     "output_type": "execute_result"
    }
   ],
   "source": [
    "#Glance at the loaded data\n",
    "df_total.head()"
   ]
  },
  {
   "cell_type": "code",
   "execution_count": 6,
   "metadata": {},
   "outputs": [],
   "source": [
    "#Normalize the data\n",
    "normalizer=MinMaxScaler(feature_range=(0,1))\n",
    "norm_data=normalizer.fit(df_total)\n",
    "tr_data=norm_data.transform(df_train)\n",
    "tst_data=norm_data.transform(df_test)"
   ]
  },
  {
   "cell_type": "code",
   "execution_count": 7,
   "metadata": {},
   "outputs": [],
   "source": [
    "train_x, train_y = tr_data[:,0:4], tr_data[:,4:7] #x-> Input and y->Output\n",
    "test_x, test_y = tst_data[:,0:4], tst_data[:,4:7]"
   ]
  },
  {
   "cell_type": "code",
   "execution_count": 9,
   "metadata": {},
   "outputs": [],
   "source": [
    "#Create ANN model-With architecture same as in \n",
    "#paper 'ANN Model for Predicting Compressive Strength of Alkali Activated Slag Concrete Cured at Environmental Temperature'\n",
    "#by Veeresh Karikatti et.al - doi: 10.14704/nq.2022.20.6.NQ22044\n",
    "ann_model = Sequential()\n",
    "ann_model.add(Dense(4, input_shape=(4,), activation='sigmoid',use_bias=False))\n",
    "ann_model.add(Dense(3, activation='sigmoid',use_bias=False))"
   ]
  },
  {
   "cell_type": "code",
   "execution_count": 10,
   "metadata": {},
   "outputs": [],
   "source": [
    "optmizr=RMSprop(learning_rate = 0.7, momentum=0)\n",
    "ann_model.compile(optmizr,loss='binary_crossentropy', metrics=['mse','mae'])"
   ]
  },
  {
   "cell_type": "code",
   "execution_count": 12,
   "metadata": {},
   "outputs": [
    {
     "name": "stdout",
     "output_type": "stream",
     "text": [
      "Model: \"sequential_1\"\n",
      "_________________________________________________________________\n",
      " Layer (type)                Output Shape              Param #   \n",
      "=================================================================\n",
      " dense_2 (Dense)             (None, 4)                 16        \n",
      "                                                                 \n",
      " dense_3 (Dense)             (None, 3)                 12        \n",
      "                                                                 \n",
      "=================================================================\n",
      "Total params: 28\n",
      "Trainable params: 28\n",
      "Non-trainable params: 0\n",
      "_________________________________________________________________\n"
     ]
    }
   ],
   "source": [
    "#Look at summary of model\n",
    "ann_model.summary()"
   ]
  },
  {
   "cell_type": "code",
   "execution_count": 13,
   "metadata": {},
   "outputs": [
    {
     "name": "stdout",
     "output_type": "stream",
     "text": [
      "Epoch 1/20\n",
      "54/54 [==============================] - 3s 29ms/step - loss: 0.7213 - mse: 0.0792 - mae: 0.2161 - val_loss: 0.6407 - val_mse: 0.0351 - val_mae: 0.1368\n",
      "Epoch 2/20\n",
      "54/54 [==============================] - 1s 12ms/step - loss: 0.5825 - mse: 0.0231 - mae: 0.1141 - val_loss: 0.5457 - val_mse: 0.0103 - val_mae: 0.0752\n",
      "Epoch 3/20\n",
      "54/54 [==============================] - 1s 15ms/step - loss: 0.5955 - mse: 0.0274 - mae: 0.1272 - val_loss: 0.5719 - val_mse: 0.0226 - val_mae: 0.1161\n",
      "Epoch 4/20\n",
      "54/54 [==============================] - 1s 12ms/step - loss: 0.5636 - mse: 0.0159 - mae: 0.0957 - val_loss: 0.5744 - val_mse: 0.0136 - val_mae: 0.0939\n",
      "Epoch 5/20\n",
      "54/54 [==============================] - 1s 12ms/step - loss: 0.5766 - mse: 0.0177 - mae: 0.0989 - val_loss: 0.5441 - val_mse: 0.0088 - val_mae: 0.0682\n",
      "Epoch 6/20\n",
      "54/54 [==============================] - 1s 10ms/step - loss: 0.5677 - mse: 0.0189 - mae: 0.0977 - val_loss: 0.5492 - val_mse: 0.0077 - val_mae: 0.0711\n",
      "Epoch 7/20\n",
      "54/54 [==============================] - 1s 12ms/step - loss: 0.5750 - mse: 0.0182 - mae: 0.0983 - val_loss: 1.1049 - val_mse: 0.1879 - val_mae: 0.3622\n",
      "Epoch 8/20\n",
      "54/54 [==============================] - 1s 11ms/step - loss: 0.5797 - mse: 0.0250 - mae: 0.1118 - val_loss: 0.5454 - val_mse: 0.0099 - val_mae: 0.0716\n",
      "Epoch 9/20\n",
      "54/54 [==============================] - 1s 10ms/step - loss: 0.5675 - mse: 0.0179 - mae: 0.1003 - val_loss: 0.5396 - val_mse: 0.0085 - val_mae: 0.0662\n",
      "Epoch 10/20\n",
      "54/54 [==============================] - 1s 10ms/step - loss: 0.5731 - mse: 0.0202 - mae: 0.1065 - val_loss: 0.5486 - val_mse: 0.0108 - val_mae: 0.0738\n",
      "Epoch 11/20\n",
      "54/54 [==============================] - 1s 11ms/step - loss: 0.5679 - mse: 0.0201 - mae: 0.1050 - val_loss: 0.5472 - val_mse: 0.0100 - val_mae: 0.0738\n",
      "Epoch 12/20\n",
      "54/54 [==============================] - 1s 11ms/step - loss: 0.5934 - mse: 0.0195 - mae: 0.1057 - val_loss: 0.5349 - val_mse: 0.0046 - val_mae: 0.0515\n",
      "Epoch 13/20\n",
      "54/54 [==============================] - 1s 12ms/step - loss: 0.5615 - mse: 0.0165 - mae: 0.0968 - val_loss: 0.5787 - val_mse: 0.0254 - val_mae: 0.1296\n",
      "Epoch 14/20\n",
      "54/54 [==============================] - 1s 20ms/step - loss: 0.5690 - mse: 0.0186 - mae: 0.1030 - val_loss: 0.6121 - val_mse: 0.0379 - val_mae: 0.1551\n",
      "Epoch 15/20\n",
      "54/54 [==============================] - 1s 15ms/step - loss: 0.5727 - mse: 0.0187 - mae: 0.0980 - val_loss: 0.5729 - val_mse: 0.0227 - val_mae: 0.1168\n",
      "Epoch 16/20\n",
      "54/54 [==============================] - 1s 12ms/step - loss: 0.5626 - mse: 0.0165 - mae: 0.0923 - val_loss: 0.5445 - val_mse: 0.0074 - val_mae: 0.0698\n",
      "Epoch 17/20\n",
      "54/54 [==============================] - 1s 12ms/step - loss: 0.5665 - mse: 0.0186 - mae: 0.0991 - val_loss: 0.6024 - val_mse: 0.0352 - val_mae: 0.1504\n",
      "Epoch 18/20\n",
      "54/54 [==============================] - 1s 11ms/step - loss: 0.5967 - mse: 0.0268 - mae: 0.1195 - val_loss: 0.5547 - val_mse: 0.0129 - val_mae: 0.0920\n",
      "Epoch 19/20\n",
      "54/54 [==============================] - 1s 11ms/step - loss: 0.5806 - mse: 0.0197 - mae: 0.1077 - val_loss: 0.6023 - val_mse: 0.0182 - val_mae: 0.1076\n",
      "Epoch 20/20\n",
      "54/54 [==============================] - 1s 16ms/step - loss: 0.5669 - mse: 0.0170 - mae: 0.0971 - val_loss: 0.5754 - val_mse: 0.0150 - val_mae: 0.0982\n"
     ]
    }
   ],
   "source": [
    "#Train the model\n",
    "history=ann_model.fit(train_x, train_y, epochs=20, verbose=1, batch_size=1, validation_data=(test_x,test_y))"
   ]
  },
  {
   "cell_type": "code",
   "execution_count": 14,
   "metadata": {},
   "outputs": [
    {
     "data": {
      "image/png": "[encoded data removed]",
      "text/plain": [
       "<Figure size 640x480 with 1 Axes>"
      ]
     },
     "metadata": {},
     "output_type": "display_data"
    }
   ],
   "source": [
    "#Look at training error graph\n",
    "plt.plot(history.history['mse'])\n",
    "plt.plot(history.history['val_mse'])\n",
    "plt.title('model error over training iterations')\n",
    "plt.ylabel('mse')\n",
    "plt.xlabel('epoch')\n",
    "plt.legend(['train', 'val'], loc='upper left')\n",
    "plt.show()"
   ]
  },
  {
   "cell_type": "code",
   "execution_count": 15,
   "metadata": {},
   "outputs": [
    {
     "name": "stdout",
     "output_type": "stream",
     "text": [
      "1/1 [==============================] - 0s 238ms/step\n"
     ]
    }
   ],
   "source": [
    "#Predict the output for the test dataset.\n",
    "pred_res = ann_model.predict(test_x)"
   ]
  },
  {
   "cell_type": "code",
   "execution_count": 34,
   "metadata": {},
   "outputs": [],
   "source": [
    "#Save the predicted data into \n",
    "norm_output=np.concatenate((test_x,pred_res),axis=1)\n",
    "denorm_output=norm_data.inverse_transform(norm_output)\n",
    "np.savetxt('Denormalized_output.csv',denorm_output,delimiter=',')"
   ]
  },
  {
   "cell_type": "code",
   "execution_count": null,
   "metadata": {},
   "outputs": [],
   "source": [
    "#Optional- Execute this to save all other processed data as files\n",
    "np.savetxt('train_x.csv',train_x,delimiter=',')\n",
    "np.savetxt('train_y.csv',train_y,delimiter=',')\n",
    "np.savetxt('test_x.csv',test_x,delimiter=',')\n",
    "np.savetxt('test_y.csv',test_y,delimiter=',')\n",
    "np.savetxt('Normalized_train_data.csv',tr_data,delimiter=',')\n",
    "np.savetxt('Normalized_test_data.csv',tst_data,delimiter=',')"
   ]
  }
 ],
 "metadata": {
  "kernelspec": {
   "display_name": "Python 3.9.7 ('base')",
   "language": "python",
   "name": "python3"
  },
  "language_info": {
   "codemirror_mode": {
    "name": "ipython",
    "version": 3
   },
   "file_extension": ".py",
   "mimetype": "text/x-python",
   "name": "python",
   "nbconvert_exporter": "python",
   "pygments_lexer": "ipython3",
   "version": "3.9.7"
  },
  "orig_nbformat": 4,
  "vscode": {
   "interpreter": {
    "hash": "53a98a86da299a08da9ea79ebe24fe547bce3552dc5a4122184558ab2ff83394"
   }
  }
 },
 "nbformat": 4,
 "nbformat_minor": 2
}
